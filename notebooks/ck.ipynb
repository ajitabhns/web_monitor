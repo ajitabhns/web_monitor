{
 "cells": [
  {
   "cell_type": "code",
   "execution_count": 1,
   "id": "94cf93d1",
   "metadata": {},
   "outputs": [],
   "source": [
    "from confluent_kafka import Consumer"
   ]
  },
  {
   "cell_type": "code",
   "execution_count": 2,
   "id": "2e9f0117",
   "metadata": {},
   "outputs": [],
   "source": [
    "import yaml"
   ]
  },
  {
   "cell_type": "code",
   "execution_count": 3,
   "id": "bd2a1f72",
   "metadata": {},
   "outputs": [],
   "source": [
    "import os"
   ]
  },
  {
   "cell_type": "code",
   "execution_count": 4,
   "id": "8dba0feb",
   "metadata": {},
   "outputs": [],
   "source": [
    "kafka_config = yaml.load(open(os.path.join(r'C:\\Users\\61478\\aiven\\src\\config', 'kafka_config.yml')), Loader=yaml.Loader) "
   ]
  },
  {
   "cell_type": "code",
   "execution_count": 5,
   "id": "bdb736f3",
   "metadata": {},
   "outputs": [],
   "source": [
    "hostname = kafka_config['kafka-test']['hostname']\n",
    "port = kafka_config['kafka-test']['port']\n",
    "cert_folder = kafka_config['kafka-test']['cert_folder']"
   ]
  },
  {
   "cell_type": "code",
   "execution_count": 6,
   "id": "39cfbf3e",
   "metadata": {},
   "outputs": [],
   "source": [
    "import socket"
   ]
  },
  {
   "cell_type": "code",
   "execution_count": 7,
   "id": "adc97df6",
   "metadata": {},
   "outputs": [],
   "source": [
    "conf = {\"bootstrap.servers\": hostname+\":\"+str(port), \n",
    "        \"security.protocol\": \"SSL\", \n",
    "        \"ssl.ca.location\": cert_folder+\"/ca.pem\",\n",
    "        \"ssl.key.location\": cert_folder+\"/service.key\",\n",
    "        \"ssl.certificate.location\": cert_folder+\"/service.cert\",\n",
    "        \"group.id\": \"test_group\"}"
   ]
  },
  {
   "cell_type": "code",
   "execution_count": 8,
   "id": "1567d601",
   "metadata": {},
   "outputs": [],
   "source": [
    "consumer = Consumer(conf)"
   ]
  },
  {
   "cell_type": "code",
   "execution_count": 9,
   "id": "7fa6ad8a",
   "metadata": {},
   "outputs": [],
   "source": [
    "consumer.subscribe(['web_poll'])"
   ]
  },
  {
   "cell_type": "code",
   "execution_count": 10,
   "id": "daf9c95b",
   "metadata": {},
   "outputs": [],
   "source": [
    "cmd = consumer.list_topics()"
   ]
  },
  {
   "cell_type": "code",
   "execution_count": 11,
   "id": "6958c7ad",
   "metadata": {},
   "outputs": [
    {
     "data": {
      "text/plain": [
       "{47: BrokerMetadata(47, 13.211.255.79:26347),\n",
       " 49: BrokerMetadata(49, 3.25.71.239:26347),\n",
       " 48: BrokerMetadata(48, 13.54.64.90:26347)}"
      ]
     },
     "execution_count": 11,
     "metadata": {},
     "output_type": "execute_result"
    }
   ],
   "source": [
    "cmd.brokers"
   ]
  },
  {
   "cell_type": "code",
   "execution_count": 12,
   "id": "7563cd35",
   "metadata": {},
   "outputs": [
    {
     "data": {
      "text/plain": [
       "{'__consumer_offsets': TopicMetadata(__consumer_offsets, 50 partitions)}"
      ]
     },
     "execution_count": 12,
     "metadata": {},
     "output_type": "execute_result"
    }
   ],
   "source": [
    "cmd.topics"
   ]
  },
  {
   "cell_type": "code",
   "execution_count": 13,
   "id": "cac10402",
   "metadata": {},
   "outputs": [],
   "source": [
    "def consume(consumer, timeout):\n",
    "    while True:\n",
    "        message = consumer.poll(timeout)\n",
    "        if message is None:\n",
    "            continue\n",
    "        if message.error():\n",
    "            print(\"Consumer error: {}\".format(message.error()))\n",
    "            continue\n",
    "        yield message\n",
    "    consumer.close()"
   ]
  },
  {
   "cell_type": "code",
   "execution_count": null,
   "id": "97d37d2f",
   "metadata": {},
   "outputs": [
    {
     "name": "stdout",
     "output_type": "stream",
     "text": [
      "Consumer error: KafkaError{code=UNKNOWN_TOPIC_OR_PART,val=3,str=\"Subscribed topic not available: web_poll: Broker: Unknown topic or partition\"}\n",
      "Consumer error: KafkaError{code=_TRANSPORT,val=-195,str=\"FindCoordinator response error: Local: Broker transport failure\"}\n"
     ]
    }
   ],
   "source": [
    "for message in consume(consumer, 1.0):\n",
    "    print (\"key=%s value=%s\" % (message.key(),\n",
    "                                   message.value()))"
   ]
  },
  {
   "cell_type": "code",
   "execution_count": null,
   "id": "2c89f2fd",
   "metadata": {},
   "outputs": [],
   "source": []
  }
 ],
 "metadata": {
  "kernelspec": {
   "display_name": "Python 3",
   "language": "python",
   "name": "python3"
  },
  "language_info": {
   "codemirror_mode": {
    "name": "ipython",
    "version": 3
   },
   "file_extension": ".py",
   "mimetype": "text/x-python",
   "name": "python",
   "nbconvert_exporter": "python",
   "pygments_lexer": "ipython3",
   "version": "3.7.9"
  }
 },
 "nbformat": 4,
 "nbformat_minor": 5
}
