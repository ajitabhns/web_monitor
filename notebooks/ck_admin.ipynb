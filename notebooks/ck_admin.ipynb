{
 "cells": [
  {
   "cell_type": "code",
   "execution_count": 1,
   "id": "a616fbd9",
   "metadata": {},
   "outputs": [],
   "source": [
    "from confluent_kafka import admin"
   ]
  },
  {
   "cell_type": "code",
   "execution_count": 2,
   "id": "aa32660b",
   "metadata": {},
   "outputs": [],
   "source": [
    "import yaml, os"
   ]
  },
  {
   "cell_type": "code",
   "execution_count": 3,
   "id": "179ae6d1",
   "metadata": {},
   "outputs": [],
   "source": [
    "kafka_config = yaml.load(open(os.path.join(r'C:\\Users\\61478\\aiven\\src\\config', 'kafka_config.yml')), Loader=yaml.Loader) "
   ]
  },
  {
   "cell_type": "code",
   "execution_count": 4,
   "id": "915f1d97",
   "metadata": {},
   "outputs": [],
   "source": [
    "hostname = kafka_config['kafka-test']['hostname']\n",
    "port = kafka_config['kafka-test']['port']\n",
    "cert_folder = kafka_config['kafka-test']['cert_folder']"
   ]
  },
  {
   "cell_type": "code",
   "execution_count": 28,
   "id": "d07bf5b6",
   "metadata": {},
   "outputs": [],
   "source": [
    "conf = {\"bootstrap.servers\": hostname+\":\"+str(port), \n",
    "        \"security.protocol\": \"SSL\", \n",
    "        \"ssl.ca.location\": cert_folder+\"/ca.pem\",\n",
    "        \"ssl.key.location\": cert_folder+\"/service.key\",\n",
    "        \"ssl.certificate.location\": cert_folder+\"/service.cert\"}"
   ]
  },
  {
   "cell_type": "code",
   "execution_count": 36,
   "id": "9c907008",
   "metadata": {},
   "outputs": [],
   "source": [
    "admin_client = admin.AdminClient(conf)"
   ]
  },
  {
   "cell_type": "code",
   "execution_count": 79,
   "id": "c62cc82b",
   "metadata": {},
   "outputs": [],
   "source": [
    "resource = admin.ConfigResource('BROKER', '49')"
   ]
  },
  {
   "cell_type": "code",
   "execution_count": 81,
   "id": "cde20538",
   "metadata": {},
   "outputs": [],
   "source": [
    "fut = admin_client.describe_configs([resource])"
   ]
  },
  {
   "cell_type": "code",
   "execution_count": 70,
   "id": "198228ce",
   "metadata": {},
   "outputs": [
    {
     "data": {
      "text/plain": [
       "confluent_kafka.admin.BrokerMetadata"
      ]
     },
     "execution_count": 70,
     "metadata": {},
     "output_type": "execute_result"
    }
   ],
   "source": [
    "admin.BrokerMetadata"
   ]
  },
  {
   "cell_type": "code",
   "execution_count": 82,
   "id": "16c2c357",
   "metadata": {},
   "outputs": [
    {
     "name": "stdout",
     "output_type": "stream",
     "text": [
      "{'log.cleaner.min.compaction.lag.ms': ConfigEntry(log.cleaner.min.compaction.lag.ms=\"0\"), 'offsets.topic.num.partitions': ConfigEntry(offsets.topic.num.partitions=\"50\"), 'log.flush.interval.messages': ConfigEntry(log.flush.interval.messages=\"9223372036854775807\"), 'controller.socket.timeout.ms': ConfigEntry(controller.socket.timeout.ms=\"30000\"), 'principal.builder.class': ConfigEntry(principal.builder.class=\"io.aiven.kafka.auth.AivenKafkaPrincipalBuilder\"), 'log.flush.interval.ms': ConfigEntry(log.flush.interval.ms=\"None\"), 'min.insync.replicas': ConfigEntry(min.insync.replicas=\"1\"), 'num.recovery.threads.per.data.dir': ConfigEntry(num.recovery.threads.per.data.dir=\"3\"), 'ssl.keystore.type': ConfigEntry(ssl.keystore.type=\"PKCS12\"), 'zookeeper.ssl.protocol': ConfigEntry(zookeeper.ssl.protocol=\"TLSv1.2\"), 'listener.name.sasl_ssl_public.plain.sasl.jaas.config': ConfigEntry(listener.name.sasl_ssl_public.plain.sasl.jaas.config=\"None\"), 'listener.name.sasl_ssl_privatelink.scram-sha-512.sasl.server.callback.handler.class': ConfigEntry(listener.name.sasl_ssl_privatelink.scram-sha-512.sasl.server.callback.handler.class=\"io.aiven.kafka.auth.AivenSaslScramServerCallbackHandler\"), 'sasl.mechanism.inter.broker.protocol': ConfigEntry(sasl.mechanism.inter.broker.protocol=\"GSSAPI\"), 'listener.name.sasl_ssl_privatelink.scram-sha-256.sasl.server.callback.handler.class': ConfigEntry(listener.name.sasl_ssl_privatelink.scram-sha-256.sasl.server.callback.handler.class=\"io.aiven.kafka.auth.AivenSaslScramServerCallbackHandler\"), 'listener.name.sasl_ssl_public.plain.sasl.server.callback.handler.class': ConfigEntry(listener.name.sasl_ssl_public.plain.sasl.server.callback.handler.class=\"io.aiven.kafka.auth.AivenSaslPlainServerCallbackHandler\"), 'fetch.purgatory.purge.interval.requests': ConfigEntry(fetch.purgatory.purge.interval.requests=\"1000\"), 'listener.name.sasl_ssl_privatelink.scram-sha-256.sasl.jaas.config': ConfigEntry(listener.name.sasl_ssl_privatelink.scram-sha-256.sasl.jaas.config=\"None\"), 'ssl.endpoint.identification.algorithm': ConfigEntry(ssl.endpoint.identification.algorithm=\"https\"), 'zookeeper.ssl.keystore.location': ConfigEntry(zookeeper.ssl.keystore.location=\"None\"), 'replica.socket.timeout.ms': ConfigEntry(replica.socket.timeout.ms=\"30000\"), 'message.max.bytes': ConfigEntry(message.max.bytes=\"1048588\"), 'listener.name.sasl_ssl_le.ssl.keystore.location': ConfigEntry(listener.name.sasl_ssl_le.ssl.keystore.location=\"/run/aiven/keys/node_le.keystore.p12\"), 'listener.name.sasl_ssl_le_public.scram-sha-512.sasl.jaas.config': ConfigEntry(listener.name.sasl_ssl_le_public.scram-sha-512.sasl.jaas.config=\"None\"), 'max.connection.creation.rate': ConfigEntry(max.connection.creation.rate=\"2147483647\"), 'connections.max.reauth.ms': ConfigEntry(connections.max.reauth.ms=\"0\"), 'log.flush.offset.checkpoint.interval.ms': ConfigEntry(log.flush.offset.checkpoint.interval.ms=\"60000\"), 'zookeeper.clientCnxnSocket': ConfigEntry(zookeeper.clientCnxnSocket=\"None\"), 'zookeeper.ssl.client.enable': ConfigEntry(zookeeper.ssl.client.enable=\"false\"), 'quota.window.num': ConfigEntry(quota.window.num=\"11\"), 'zookeeper.connect': ConfigEntry(zookeeper.connect=\"172.31.0.108:26351\"), 'authorizer.class.name': ConfigEntry(authorizer.class.name=\"io.aiven.kafka.auth.AivenAclAuthorizer\"), 'password.encoder.secret': ConfigEntry(password.encoder.secret=\"None\"), 'num.replica.fetchers': ConfigEntry(num.replica.fetchers=\"4\"), 'alter.log.dirs.replication.quota.window.size.seconds': ConfigEntry(alter.log.dirs.replication.quota.window.size.seconds=\"1\"), 'listener.name.sasl_ssl_public.scram-sha-512.sasl.server.callback.handler.class': ConfigEntry(listener.name.sasl_ssl_public.scram-sha-512.sasl.server.callback.handler.class=\"io.aiven.kafka.auth.AivenSaslScramServerCallbackHandler\"), 'listener.name.sasl_ssl_public.scram-sha-256.sasl.server.callback.handler.class': ConfigEntry(listener.name.sasl_ssl_public.scram-sha-256.sasl.server.callback.handler.class=\"io.aiven.kafka.auth.AivenSaslScramServerCallbackHandler\"), 'log.roll.jitter.hours': ConfigEntry(log.roll.jitter.hours=\"0\"), 'password.encoder.old.secret': ConfigEntry(password.encoder.old.secret=\"None\"), 'log.cleaner.delete.retention.ms': ConfigEntry(log.cleaner.delete.retention.ms=\"86400000\"), 'listener.name.sasl_ssl_le.plain.sasl.server.callback.handler.class': ConfigEntry(listener.name.sasl_ssl_le.plain.sasl.server.callback.handler.class=\"io.aiven.kafka.auth.AivenSaslPlainServerCallbackHandler\"), 'queued.max.requests': ConfigEntry(queued.max.requests=\"500\"), 'log.cleaner.threads': ConfigEntry(log.cleaner.threads=\"1\"), 'sasl.kerberos.service.name': ConfigEntry(sasl.kerberos.service.name=\"None\"), 'socket.request.max.bytes': ConfigEntry(socket.request.max.bytes=\"104857600\"), 'log.message.timestamp.type': ConfigEntry(log.message.timestamp.type=\"CreateTime\"), 'zookeeper.ssl.keystore.type': ConfigEntry(zookeeper.ssl.keystore.type=\"None\"), 'connections.max.idle.ms': ConfigEntry(connections.max.idle.ms=\"600000\"), 'zookeeper.set.acl': ConfigEntry(zookeeper.set.acl=\"false\"), 'delegation.token.expiry.time.ms': ConfigEntry(delegation.token.expiry.time.ms=\"86400000\"), 'max.connections': ConfigEntry(max.connections=\"2147483647\"), 'transaction.state.log.num.partitions': ConfigEntry(transaction.state.log.num.partitions=\"16\"), 'listener.security.protocol.map': ConfigEntry(listener.security.protocol.map=\"SSL:SSL,PLAINTEXT:PLAINTEXT,INTERNAL:PLAINTEXT,SSL_PUBLIC:SSL,SASL_SSL:SASL_SSL,SASL_SSL_PUBLIC:SASL_SSL\"), 'aiven.acl.authorizer.configuration': ConfigEntry(aiven.acl.authorizer.configuration=\"None\"), 'log.retention.hours': ConfigEntry(log.retention.hours=\"168\"), 'client.quota.callback.class': ConfigEntry(client.quota.callback.class=\"None\"), 'ssl.provider': ConfigEntry(ssl.provider=\"None\"), 'delete.records.purgatory.purge.interval.requests': ConfigEntry(delete.records.purgatory.purge.interval.requests=\"1\"), 'log.roll.ms': ConfigEntry(log.roll.ms=\"None\"), 'ssl.cipher.suites': ConfigEntry(ssl.cipher.suites=\"TLS_AES_256_GCM_SHA384,TLS_AES_128_GCM_SHA256,TLS_DHE_RSA_WITH_AES_256_GCM_SHA384,TLS_DHE_RSA_WITH_AES_128_GCM_SHA256,TLS_ECDHE_RSA_WITH_AES_256_GCM_SHA384,TLS_ECDHE_RSA_WITH_AES_128_GCM_SHA256,TLS_DHE_RSA_WITH_AES_256_CBC_SHA256,TLS_DHE_RSA_WITH_AES_128_CBC_SHA256,TLS_ECDHE_RSA_WITH_AES_256_CBC_SHA384,TLS_ECDHE_RSA_WITH_AES_128_CBC_SHA256\"), 'zookeeper.ssl.keystore.password': ConfigEntry(zookeeper.ssl.keystore.password=\"None\"), 'security.inter.broker.protocol': ConfigEntry(security.inter.broker.protocol=\"PLAINTEXT\"), 'listener.name.sasl_ssl_public.scram-sha-512.sasl.jaas.config': ConfigEntry(listener.name.sasl_ssl_public.scram-sha-512.sasl.jaas.config=\"None\"), 'replica.high.watermark.checkpoint.interval.ms': ConfigEntry(replica.high.watermark.checkpoint.interval.ms=\"5000\"), 'replication.quota.window.size.seconds': ConfigEntry(replication.quota.window.size.seconds=\"1\"), 'sasl.kerberos.ticket.renew.window.factor': ConfigEntry(sasl.kerberos.ticket.renew.window.factor=\"0.8\"), 'zookeeper.connection.timeout.ms': ConfigEntry(zookeeper.connection.timeout.ms=\"30000\"), 'metrics.recording.level': ConfigEntry(metrics.recording.level=\"INFO\"), 'password.encoder.cipher.algorithm': ConfigEntry(password.encoder.cipher.algorithm=\"AES/CBC/PKCS5Padding\"), 'ssl.principal.mapping.rules': ConfigEntry(ssl.principal.mapping.rules=\"DEFAULT\"), 'replica.selector.class': ConfigEntry(replica.selector.class=\"None\"), 'max.connections.per.ip': ConfigEntry(max.connections.per.ip=\"2147483647\"), 'listener.name.sasl_ssl_le.scram-sha-512.sasl.server.callback.handler.class': ConfigEntry(listener.name.sasl_ssl_le.scram-sha-512.sasl.server.callback.handler.class=\"io.aiven.kafka.auth.AivenSaslScramServerCallbackHandler\"), 'background.threads': ConfigEntry(background.threads=\"10\"), 'quota.consumer.default': ConfigEntry(quota.consumer.default=\"9223372036854775807\"), 'request.timeout.ms': ConfigEntry(request.timeout.ms=\"30000\"), 'log.message.format.version': ConfigEntry(log.message.format.version=\"2.7\"), 'sasl.login.class': ConfigEntry(sasl.login.class=\"None\"), 'log.dir': ConfigEntry(log.dir=\"/tmp/kafka-logs\"), 'log.segment.bytes': ConfigEntry(log.segment.bytes=\"209715200\"), 'replica.fetch.response.max.bytes': ConfigEntry(replica.fetch.response.max.bytes=\"10485760\"), 'group.max.session.timeout.ms': ConfigEntry(group.max.session.timeout.ms=\"1800000\"), 'port': ConfigEntry(port=\"9092\"), 'log.segment.delete.delay.ms': ConfigEntry(log.segment.delete.delay.ms=\"60000\"), 'log.retention.minutes': ConfigEntry(log.retention.minutes=\"None\"), 'listener.name.sasl_ssl_le_public.plain.sasl.jaas.config': ConfigEntry(listener.name.sasl_ssl_le_public.plain.sasl.jaas.config=\"None\"), 'log.dirs': ConfigEntry(log.dirs=\"/srv/kafka\"), 'controlled.shutdown.enable': ConfigEntry(controlled.shutdown.enable=\"true\"), 'socket.connection.setup.timeout.max.ms': ConfigEntry(socket.connection.setup.timeout.max.ms=\"127000\"), 'log.message.timestamp.difference.max.ms': ConfigEntry(log.message.timestamp.difference.max.ms=\"9223372036854775807\"), 'password.encoder.key.length': ConfigEntry(password.encoder.key.length=\"128\"), 'sasl.login.refresh.min.period.seconds': ConfigEntry(sasl.login.refresh.min.period.seconds=\"60\"), 'transaction.abort.timed.out.transaction.cleanup.interval.ms': ConfigEntry(transaction.abort.timed.out.transaction.cleanup.interval.ms=\"10000\"), 'sasl.kerberos.kinit.cmd': ConfigEntry(sasl.kerberos.kinit.cmd=\"/usr/bin/kinit\"), 'log.cleaner.io.max.bytes.per.second': ConfigEntry(log.cleaner.io.max.bytes.per.second=\"1.7976931348623157E308\"), 'auto.leader.rebalance.enable': ConfigEntry(auto.leader.rebalance.enable=\"true\"), 'leader.imbalance.check.interval.seconds': ConfigEntry(leader.imbalance.check.interval.seconds=\"300\"), 'log.cleaner.min.cleanable.ratio': ConfigEntry(log.cleaner.min.cleanable.ratio=\"0.5\"), 'replica.lag.time.max.ms': ConfigEntry(replica.lag.time.max.ms=\"30000\"), 'num.network.threads': ConfigEntry(num.network.threads=\"16\"), 'ssl.keystore.key': ConfigEntry(ssl.keystore.key=\"None\"), 'sasl.client.callback.handler.class': ConfigEntry(sasl.client.callback.handler.class=\"None\"), 'metrics.num.samples': ConfigEntry(metrics.num.samples=\"2\"), 'socket.send.buffer.bytes': ConfigEntry(socket.send.buffer.bytes=\"102400\"), 'password.encoder.keyfactory.algorithm': ConfigEntry(password.encoder.keyfactory.algorithm=\"None\"), 'listener.name.sasl_ssl_le_public.ssl.keystore.location': ConfigEntry(listener.name.sasl_ssl_le_public.ssl.keystore.location=\"/run/aiven/keys/node_le_public.keystore.p12\"), 'socket.receive.buffer.bytes': ConfigEntry(socket.receive.buffer.bytes=\"102400\"), 'replica.fetch.min.bytes': ConfigEntry(replica.fetch.min.bytes=\"1\"), 'broker.rack': ConfigEntry(broker.rack=\"None\"), 'zookeeper.ssl.truststore.password': ConfigEntry(zookeeper.ssl.truststore.password=\"None\"), 'unclean.leader.election.enable': ConfigEntry(unclean.leader.election.enable=\"false\"), 'offsets.retention.check.interval.ms': ConfigEntry(offsets.retention.check.interval.ms=\"600000\"), 'producer.purgatory.purge.interval.requests': ConfigEntry(producer.purgatory.purge.interval.requests=\"1000\"), 'metrics.sample.window.ms': ConfigEntry(metrics.sample.window.ms=\"30000\"), 'listener.name.sasl_ssl_le.scram-sha-256.sasl.jaas.config': ConfigEntry(listener.name.sasl_ssl_le.scram-sha-256.sasl.jaas.config=\"None\"), 'log.retention.check.interval.ms': ConfigEntry(log.retention.check.interval.ms=\"300000\"), 'sasl.login.refresh.window.jitter': ConfigEntry(sasl.login.refresh.window.jitter=\"0.05\"), 'leader.imbalance.per.broker.percentage': ConfigEntry(leader.imbalance.per.broker.percentage=\"10\"), 'controller.quota.window.num': ConfigEntry(controller.quota.window.num=\"11\"), 'listener.name.sasl_ssl.scram-sha-256.sasl.server.callback.handler.class': ConfigEntry(listener.name.sasl_ssl.scram-sha-256.sasl.server.callback.handler.class=\"io.aiven.kafka.auth.AivenSaslScramServerCallbackHandler\"), 'advertised.host.name': ConfigEntry(advertised.host.name=\"None\"), 'metric.reporters': ConfigEntry(metric.reporters=\"\"), 'quota.producer.default': ConfigEntry(quota.producer.default=\"9223372036854775807\"), 'auto.create.topics.enable': ConfigEntry(auto.create.topics.enable=\"false\"), 'ssl.engine.factory.class': ConfigEntry(ssl.engine.factory.class=\"None\"), 'listener.name.sasl_ssl_le_public.scram-sha-512.sasl.server.callback.handler.class': ConfigEntry(listener.name.sasl_ssl_le_public.scram-sha-512.sasl.server.callback.handler.class=\"io.aiven.kafka.auth.AivenSaslScramServerCallbackHandler\"), 'replica.socket.receive.buffer.bytes': ConfigEntry(replica.socket.receive.buffer.bytes=\"65536\"), 'zookeeper.ssl.truststore.location': ConfigEntry(zookeeper.ssl.truststore.location=\"None\"), 'replica.fetch.wait.max.ms': ConfigEntry(replica.fetch.wait.max.ms=\"500\"), 'password.encoder.iterations': ConfigEntry(password.encoder.iterations=\"4096\"), 'listener.name.sasl_ssl_le_public.scram-sha-256.sasl.server.callback.handler.class': ConfigEntry(listener.name.sasl_ssl_le_public.scram-sha-256.sasl.server.callback.handler.class=\"io.aiven.kafka.auth.AivenSaslScramServerCallbackHandler\"), 'default.replication.factor': ConfigEntry(default.replication.factor=\"2\"), 'ssl.truststore.password': ConfigEntry(ssl.truststore.password=\"None\"), 'sasl.kerberos.principal.to.local.rules': ConfigEntry(sasl.kerberos.principal.to.local.rules=\"DEFAULT\"), 'log.preallocate': ConfigEntry(log.preallocate=\"false\"), 'transactional.id.expiration.ms': ConfigEntry(transactional.id.expiration.ms=\"604800000\"), 'control.plane.listener.name': ConfigEntry(control.plane.listener.name=\"None\"), 'transaction.state.log.replication.factor': ConfigEntry(transaction.state.log.replication.factor=\"3\"), 'num.io.threads': ConfigEntry(num.io.threads=\"8\"), 'sasl.login.refresh.buffer.seconds': ConfigEntry(sasl.login.refresh.buffer.seconds=\"300\"), 'offsets.commit.required.acks': ConfigEntry(offsets.commit.required.acks=\"-1\"), 'connection.failed.authentication.delay.ms': ConfigEntry(connection.failed.authentication.delay.ms=\"100\"), 'delete.topic.enable': ConfigEntry(delete.topic.enable=\"true\"), 'quota.window.size.seconds': ConfigEntry(quota.window.size.seconds=\"1\"), 'ssl.truststore.type': ConfigEntry(ssl.truststore.type=\"JKS\"), 'offsets.commit.timeout.ms': ConfigEntry(offsets.commit.timeout.ms=\"5000\"), 'zookeeper.ssl.ocsp.enable': ConfigEntry(zookeeper.ssl.ocsp.enable=\"false\"), 'listener.name.sasl_ssl_privatelink.plain.sasl.jaas.config': ConfigEntry(listener.name.sasl_ssl_privatelink.plain.sasl.jaas.config=\"None\"), 'listener.name.sasl_ssl.scram-sha-512.sasl.server.callback.handler.class': ConfigEntry(listener.name.sasl_ssl.scram-sha-512.sasl.server.callback.handler.class=\"io.aiven.kafka.auth.AivenSaslScramServerCallbackHandler\"), 'log.cleaner.max.compaction.lag.ms': ConfigEntry(log.cleaner.max.compaction.lag.ms=\"9223372036854775807\"), 'zookeeper.ssl.enabled.protocols': ConfigEntry(zookeeper.ssl.enabled.protocols=\"None\"), 'log.retention.ms': ConfigEntry(log.retention.ms=\"None\"), 'alter.log.dirs.replication.quota.window.num': ConfigEntry(alter.log.dirs.replication.quota.window.num=\"11\"), 'log.cleaner.enable': ConfigEntry(log.cleaner.enable=\"true\"), 'offsets.load.buffer.size': ConfigEntry(offsets.load.buffer.size=\"5242880\"), 'ssl.client.auth': ConfigEntry(ssl.client.auth=\"required\"), 'listener.name.sasl_ssl_le.scram-sha-512.sasl.jaas.config': ConfigEntry(listener.name.sasl_ssl_le.scram-sha-512.sasl.jaas.config=\"None\"), 'controlled.shutdown.max.retries': ConfigEntry(controlled.shutdown.max.retries=\"3\"), 'offsets.topic.replication.factor': ConfigEntry(offsets.topic.replication.factor=\"3\"), 'zookeeper.ssl.truststore.type': ConfigEntry(zookeeper.ssl.truststore.type=\"None\"), 'transaction.state.log.min.isr': ConfigEntry(transaction.state.log.min.isr=\"2\"), 'ssl.secure.random.implementation': ConfigEntry(ssl.secure.random.implementation=\"None\"), 'sasl.kerberos.ticket.renew.jitter': ConfigEntry(sasl.kerberos.ticket.renew.jitter=\"0.05\"), 'ssl.trustmanager.algorithm': ConfigEntry(ssl.trustmanager.algorithm=\"PKIX\"), 'listener.name.sasl_ssl.scram-sha-256.sasl.jaas.config': ConfigEntry(listener.name.sasl_ssl.scram-sha-256.sasl.jaas.config=\"None\"), 'zookeeper.session.timeout.ms': ConfigEntry(zookeeper.session.timeout.ms=\"18000\"), 'log.retention.bytes': ConfigEntry(log.retention.bytes=\"-1\"), 'controller.quota.window.size.seconds': ConfigEntry(controller.quota.window.size.seconds=\"1\"), 'aiven.kafka.principal.builder.configuration': ConfigEntry(aiven.kafka.principal.builder.configuration=\"None\"), 'sasl.jaas.config': ConfigEntry(sasl.jaas.config=\"None\"), 'sasl.kerberos.min.time.before.relogin': ConfigEntry(sasl.kerberos.min.time.before.relogin=\"60000\"), 'offsets.retention.minutes': ConfigEntry(offsets.retention.minutes=\"10080\"), 'replica.fetch.backoff.ms': ConfigEntry(replica.fetch.backoff.ms=\"1000\"), 'inter.broker.protocol.version': ConfigEntry(inter.broker.protocol.version=\"2.7\"), 'kafka.metrics.reporters': ConfigEntry(kafka.metrics.reporters=\"\"), 'num.partitions': ConfigEntry(num.partitions=\"1\"), 'ssl.keystore.certificate.chain': ConfigEntry(ssl.keystore.certificate.chain=\"None\"), 'socket.connection.setup.timeout.ms': ConfigEntry(socket.connection.setup.timeout.ms=\"10000\"), 'broker.id.generation.enable': ConfigEntry(broker.id.generation.enable=\"true\"), 'listeners': ConfigEntry(listeners=\"SSL://:26347,PLAINTEXT://:26346,INTERNAL://[fda7:a938:5bfe:5fa6::52]:26354,SSL_PUBLIC://:26357,SASL_SSL://:26358,SASL_SSL_PUBLIC://:26359\"), 'ssl.enabled.protocols': ConfigEntry(ssl.enabled.protocols=\"TLSv1.2\"), 'inter.broker.listener.name': ConfigEntry(inter.broker.listener.name=\"INTERNAL\"), 'alter.config.policy.class.name': ConfigEntry(alter.config.policy.class.name=\"None\"), 'delegation.token.expiry.check.interval.ms': ConfigEntry(delegation.token.expiry.check.interval.ms=\"3600000\"), 'log.flush.scheduler.interval.ms': ConfigEntry(log.flush.scheduler.interval.ms=\"9223372036854775807\"), 'zookeeper.max.in.flight.requests': ConfigEntry(zookeeper.max.in.flight.requests=\"10\"), 'listener.name.sasl_ssl.plain.sasl.jaas.config': ConfigEntry(listener.name.sasl_ssl.plain.sasl.jaas.config=\"None\"), 'log.index.size.max.bytes': ConfigEntry(log.index.size.max.bytes=\"10485760\"), 'ssl.keymanager.algorithm': ConfigEntry(ssl.keymanager.algorithm=\"SunX509\"), 'sasl.login.callback.handler.class': ConfigEntry(sasl.login.callback.handler.class=\"None\"), 'listener.name.sasl_ssl_le_public.plain.sasl.server.callback.handler.class': ConfigEntry(listener.name.sasl_ssl_le_public.plain.sasl.server.callback.handler.class=\"io.aiven.kafka.auth.AivenSaslPlainServerCallbackHandler\"), 'replica.fetch.max.bytes': ConfigEntry(replica.fetch.max.bytes=\"1048576\"), 'zookeeper.ssl.crl.enable': ConfigEntry(zookeeper.ssl.crl.enable=\"false\"), 'sasl.server.callback.handler.class': ConfigEntry(sasl.server.callback.handler.class=\"None\"), 'log.cleaner.dedupe.buffer.size': ConfigEntry(log.cleaner.dedupe.buffer.size=\"134217728\"), 'advertised.port': ConfigEntry(advertised.port=\"None\"), 'log.cleaner.io.buffer.size': ConfigEntry(log.cleaner.io.buffer.size=\"524288\"), 'listener.name.sasl_ssl_privatelink.plain.sasl.server.callback.handler.class': ConfigEntry(listener.name.sasl_ssl_privatelink.plain.sasl.server.callback.handler.class=\"io.aiven.kafka.auth.AivenSaslPlainServerCallbackHandler\"), 'create.topic.policy.class.name': ConfigEntry(create.topic.policy.class.name=\"None\"), 'ssl.truststore.certificates': ConfigEntry(ssl.truststore.certificates=\"None\"), 'controlled.shutdown.retry.backoff.ms': ConfigEntry(controlled.shutdown.retry.backoff.ms=\"5000\"), 'security.providers': ConfigEntry(security.providers=\"None\"), 'listener.name.sasl_ssl.plain.sasl.server.callback.handler.class': ConfigEntry(listener.name.sasl_ssl.plain.sasl.server.callback.handler.class=\"io.aiven.kafka.auth.AivenSaslPlainServerCallbackHandler\"), 'listener.name.sasl_ssl_le.scram-sha-256.sasl.server.callback.handler.class': ConfigEntry(listener.name.sasl_ssl_le.scram-sha-256.sasl.server.callback.handler.class=\"io.aiven.kafka.auth.AivenSaslScramServerCallbackHandler\"), 'log.roll.hours': ConfigEntry(log.roll.hours=\"168\"), 'log.cleanup.policy': ConfigEntry(log.cleanup.policy=\"delete\"), 'log.flush.start.offset.checkpoint.interval.ms': ConfigEntry(log.flush.start.offset.checkpoint.interval.ms=\"60000\"), 'host.name': ConfigEntry(host.name=\"\"), 'log.roll.jitter.ms': ConfigEntry(log.roll.jitter.ms=\"None\"), 'transaction.state.log.segment.bytes': ConfigEntry(transaction.state.log.segment.bytes=\"104857600\"), 'offsets.topic.segment.bytes': ConfigEntry(offsets.topic.segment.bytes=\"104857600\"), 'group.initial.rebalance.delay.ms': ConfigEntry(group.initial.rebalance.delay.ms=\"3000\"), 'log.index.interval.bytes': ConfigEntry(log.index.interval.bytes=\"4096\"), 'listener.name.sasl_ssl_privatelink.scram-sha-512.sasl.jaas.config': ConfigEntry(listener.name.sasl_ssl_privatelink.scram-sha-512.sasl.jaas.config=\"None\"), 'log.cleaner.backoff.ms': ConfigEntry(log.cleaner.backoff.ms=\"15000\"), 'ssl.truststore.location': ConfigEntry(ssl.truststore.location=\"/run/aiven/keys/server.truststore.jks\"), 'offset.metadata.max.bytes': ConfigEntry(offset.metadata.max.bytes=\"4096\"), 'ssl.keystore.password': ConfigEntry(ssl.keystore.password=\"None\"), 'zookeeper.sync.time.ms': ConfigEntry(zookeeper.sync.time.ms=\"2000\"), 'listener.name.sasl_ssl_le_public.scram-sha-256.sasl.jaas.config': ConfigEntry(listener.name.sasl_ssl_le_public.scram-sha-256.sasl.jaas.config=\"None\"), 'fetch.max.bytes': ConfigEntry(fetch.max.bytes=\"57671680\"), 'compression.type': ConfigEntry(compression.type=\"producer\"), 'max.connections.per.ip.overrides': ConfigEntry(max.connections.per.ip.overrides=\"\"), 'sasl.login.refresh.window.factor': ConfigEntry(sasl.login.refresh.window.factor=\"0.8\"), 'kafka.metrics.polling.interval.secs': ConfigEntry(kafka.metrics.polling.interval.secs=\"10\"), 'listener.name.sasl_ssl_public.scram-sha-256.sasl.jaas.config': ConfigEntry(listener.name.sasl_ssl_public.scram-sha-256.sasl.jaas.config=\"None\"), 'max.incremental.fetch.session.cache.slots': ConfigEntry(max.incremental.fetch.session.cache.slots=\"1000\"), 'delegation.token.master.key': ConfigEntry(delegation.token.master.key=\"None\"), 'ssl.key.password': ConfigEntry(ssl.key.password=\"None\"), 'reserved.broker.max.id': ConfigEntry(reserved.broker.max.id=\"1000\"), 'transaction.remove.expired.transaction.cleanup.interval.ms': ConfigEntry(transaction.remove.expired.transaction.cleanup.interval.ms=\"3600000\"), 'log.message.downconversion.enable': ConfigEntry(log.message.downconversion.enable=\"true\"), 'ssl.protocol': ConfigEntry(ssl.protocol=\"TLS\"), 'transaction.state.log.load.buffer.size': ConfigEntry(transaction.state.log.load.buffer.size=\"5242880\"), 'ssl.keystore.location': ConfigEntry(ssl.keystore.location=\"/run/aiven/keys/server.keystore.p12\"), 'sasl.enabled.mechanisms': ConfigEntry(sasl.enabled.mechanisms=\"PLAIN,SCRAM-SHA-256,SCRAM-SHA-512\"), 'num.replica.alter.log.dirs.threads': ConfigEntry(num.replica.alter.log.dirs.threads=\"None\"), 'zookeeper.ssl.cipher.suites': ConfigEntry(zookeeper.ssl.cipher.suites=\"None\"), 'group.min.session.timeout.ms': ConfigEntry(group.min.session.timeout.ms=\"6000\"), 'log.cleaner.io.buffer.load.factor': ConfigEntry(log.cleaner.io.buffer.load.factor=\"0.9\"), 'transaction.max.timeout.ms': ConfigEntry(transaction.max.timeout.ms=\"900000\"), 'listener.name.sasl_ssl_le.plain.sasl.jaas.config': ConfigEntry(listener.name.sasl_ssl_le.plain.sasl.jaas.config=\"None\"), 'group.max.size': ConfigEntry(group.max.size=\"2147483647\"), 'delegation.token.max.lifetime.ms': ConfigEntry(delegation.token.max.lifetime.ms=\"604800000\"), 'broker.id': ConfigEntry(broker.id=\"49\"), 'offsets.topic.compression.codec': ConfigEntry(offsets.topic.compression.codec=\"0\"), 'zookeeper.ssl.endpoint.identification.algorithm': ConfigEntry(zookeeper.ssl.endpoint.identification.algorithm=\"HTTPS\"), 'replication.quota.window.num': ConfigEntry(replication.quota.window.num=\"11\"), 'listener.name.sasl_ssl.scram-sha-512.sasl.jaas.config': ConfigEntry(listener.name.sasl_ssl.scram-sha-512.sasl.jaas.config=\"None\"), 'advertised.listeners': ConfigEntry(advertised.listeners=\"SSL://3.25.71.239:26347,PLAINTEXT://kafka-test-49.aiven.local:26346,INTERNAL://[fda7:a938:5bfe:5fa6::52]:26354,SSL_PUBLIC://3.25.71.239:26357,SASL_SSL://3.25.71.239:26358,SASL_SSL_PUBLIC://3.25.71.239:26359\"), 'queued.max.request.bytes': ConfigEntry(queued.max.request.bytes=\"-1\")}\n"
     ]
    }
   ],
   "source": [
    "print(fut[resource].result())"
   ]
  },
  {
   "cell_type": "code",
   "execution_count": 50,
   "id": "29abeac9",
   "metadata": {},
   "outputs": [
    {
     "name": "stdout",
     "output_type": "stream",
     "text": [
      "False\n"
     ]
    }
   ],
   "source": [
    "print(fut[resource].running())"
   ]
  },
  {
   "cell_type": "code",
   "execution_count": 80,
   "id": "99eb5e24",
   "metadata": {},
   "outputs": [],
   "source": [
    "a = resource.set_config('auto.create.topics.enable', 'true')"
   ]
  },
  {
   "cell_type": "code",
   "execution_count": 76,
   "id": "5c59ad48",
   "metadata": {},
   "outputs": [
    {
     "name": "stdout",
     "output_type": "stream",
     "text": [
      "ConfigResource(Type.BROKER,48)\n"
     ]
    }
   ],
   "source": [
    "print(resource)"
   ]
  },
  {
   "cell_type": "code",
   "execution_count": null,
   "id": "f35fdfc7",
   "metadata": {},
   "outputs": [],
   "source": []
  }
 ],
 "metadata": {
  "kernelspec": {
   "display_name": "Python 3",
   "language": "python",
   "name": "python3"
  },
  "language_info": {
   "codemirror_mode": {
    "name": "ipython",
    "version": 3
   },
   "file_extension": ".py",
   "mimetype": "text/x-python",
   "name": "python",
   "nbconvert_exporter": "python",
   "pygments_lexer": "ipython3",
   "version": "3.7.9"
  }
 },
 "nbformat": 4,
 "nbformat_minor": 5
}
