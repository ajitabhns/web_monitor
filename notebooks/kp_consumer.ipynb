{
 "cells": [
  {
   "cell_type": "code",
   "execution_count": 1,
   "metadata": {},
   "outputs": [
    {
     "ename": "ModuleNotFoundError",
     "evalue": "No module named 'kafka'",
     "output_type": "error",
     "traceback": [
      "\u001b[1;31m---------------------------------------------------------------------------\u001b[0m",
      "\u001b[1;31mModuleNotFoundError\u001b[0m                       Traceback (most recent call last)",
      "\u001b[1;32m<ipython-input-1-7f034225521d>\u001b[0m in \u001b[0;36m<module>\u001b[1;34m\u001b[0m\n\u001b[1;32m----> 1\u001b[1;33m \u001b[1;32mfrom\u001b[0m \u001b[0mkafka\u001b[0m \u001b[1;32mimport\u001b[0m \u001b[0mTopicPartition\u001b[0m\u001b[1;33m\u001b[0m\u001b[1;33m\u001b[0m\u001b[0m\n\u001b[0m",
      "\u001b[1;31mModuleNotFoundError\u001b[0m: No module named 'kafka'"
     ]
    }
   ],
   "source": [
    "from kafka import TopicPartition"
   ]
  },
  {
   "cell_type": "code",
   "execution_count": 2,
   "metadata": {},
   "outputs": [],
   "source": [
    "from kafka import KafkaConsumer"
   ]
  },
  {
   "cell_type": "code",
   "execution_count": 3,
   "metadata": {},
   "outputs": [],
   "source": [
    "import json"
   ]
  },
  {
   "cell_type": "code",
   "execution_count": 4,
   "metadata": {},
   "outputs": [],
   "source": [
    "import yaml"
   ]
  },
  {
   "cell_type": "code",
   "execution_count": 5,
   "metadata": {},
   "outputs": [],
   "source": [
    "import os"
   ]
  },
  {
   "cell_type": "code",
   "execution_count": 6,
   "metadata": {},
   "outputs": [],
   "source": [
    "kafka_config = yaml.load(open(os.path.join(r'C:\\Users\\61478\\aiven\\src\\config', 'kafka_config.yml')), Loader=yaml.Loader) "
   ]
  },
  {
   "cell_type": "code",
   "execution_count": 7,
   "metadata": {},
   "outputs": [],
   "source": [
    "hostname = kafka_config['kafka-test']['hostname']\n",
    "port = kafka_config['kafka-test']['port']\n",
    "cert_folder = kafka_config['kafka-test']['cert_folder']"
   ]
  },
  {
   "cell_type": "code",
   "execution_count": 8,
   "metadata": {},
   "outputs": [],
   "source": [
    "group_id = \"my_pizza_group\"\n",
    "\n",
    "topic_name_partitioned = \"pizza_shop_partitioned\"\n",
    "\n",
    "consumer_partition_0 = KafkaConsumer(\n",
    "        group_id=\"group_id_partitioned\",\n",
    "        bootstrap_servers=hostname+\":\"+str(port),\n",
    "        security_protocol=\"SSL\",\n",
    "        ssl_cafile=cert_folder+\"/ca.pem\",\n",
    "        ssl_certfile=cert_folder+\"/service.cert\",\n",
    "        ssl_keyfile=cert_folder+\"/service.key\",\n",
    "        value_deserializer = lambda v: json.loads(v.decode('ascii')),\n",
    "        key_deserializer = lambda v: json.loads(v.decode('ascii')),\n",
    "        auto_offset_reset='earliest',\n",
    "        max_poll_records = 10\n",
    "    )"
   ]
  },
  {
   "cell_type": "code",
   "execution_count": 9,
   "metadata": {},
   "outputs": [],
   "source": [
    "consumer_partition_0.assign([TopicPartition(topic_name_partitioned, 0)])"
   ]
  },
  {
   "cell_type": "code",
   "execution_count": 10,
   "metadata": {},
   "outputs": [],
   "source": [
    "consumer_partition_0.subscription()"
   ]
  },
  {
   "cell_type": "code",
   "execution_count": null,
   "metadata": {},
   "outputs": [
    {
     "name": "stdout",
     "output_type": "stream",
     "text": [
      "p=0 o=0 value={'name': 'frank', 'pizza': 'margherita'}\n",
      "p=0 o=1 value={'name': 'mark', 'pizza': 'hawaain'}\n",
      "p=0 o=2 value={'name': 'mark', 'pizza': 'hawaain'}\n",
      "p=0 o=3 value={'name': 'mark', 'pizza': 'hawaain'}\n"
     ]
    }
   ],
   "source": [
    "for message in consumer_partition_0:\n",
    "    print (\"p=%d o=%d value=%s\" % (message.partition,\n",
    "                                   message.offset,\n",
    "                                   message.value))"
   ]
  },
  {
   "cell_type": "code",
   "execution_count": null,
   "metadata": {},
   "outputs": [],
   "source": [
    "consumer_partition_1 = KafkaConsumer(\n",
    "        group_id=\"group_id_partitioned\",\n",
    "        bootstrap_servers=hostname+\":\"+str(port),\n",
    "        security_protocol=\"SSL\",\n",
    "        ssl_cafile=cert_folder+\"/ca.pem\",\n",
    "        ssl_certfile=cert_folder+\"/service.cert\",\n",
    "        ssl_keyfile=cert_folder+\"/service.key\",\n",
    "        value_deserializer = lambda v: json.loads(v.decode('ascii')),\n",
    "        key_deserializer = lambda v: json.loads(v.decode('ascii')),\n",
    "        auto_offset_reset='earliest',\n",
    "        max_poll_records = 10\n",
    "    )"
   ]
  },
  {
   "cell_type": "code",
   "execution_count": null,
   "metadata": {},
   "outputs": [],
   "source": [
    "consumer_partition_1.assign([TopicPartition(topic_name_partitioned, 1)])"
   ]
  },
  {
   "cell_type": "code",
   "execution_count": null,
   "metadata": {},
   "outputs": [],
   "source": [
    "for message in consumer_partition_1:\n",
    "    print (\"p=%d o=%d value=%s\" % (message.partition,\n",
    "                                   message.offset,\n",
    "                                   message.value))"
   ]
  },
  {
   "cell_type": "code",
   "execution_count": null,
   "metadata": {},
   "outputs": [],
   "source": []
  }
 ],
 "metadata": {
  "kernelspec": {
   "display_name": "Python 3",
   "language": "python",
   "name": "python3"
  },
  "language_info": {
   "codemirror_mode": {
    "name": "ipython",
    "version": 3
   },
   "file_extension": ".py",
   "mimetype": "text/x-python",
   "name": "python",
   "nbconvert_exporter": "python",
   "pygments_lexer": "ipython3",
   "version": "3.7.9"
  }
 },
 "nbformat": 4,
 "nbformat_minor": 4
}
