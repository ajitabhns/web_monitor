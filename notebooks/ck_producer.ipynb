{
 "cells": [
  {
   "cell_type": "code",
   "execution_count": 40,
   "id": "b43d7540",
   "metadata": {},
   "outputs": [],
   "source": [
    "import yaml"
   ]
  },
  {
   "cell_type": "code",
   "execution_count": 41,
   "id": "89787ad9",
   "metadata": {},
   "outputs": [],
   "source": [
    "from confluent_kafka import Producer"
   ]
  },
  {
   "cell_type": "code",
   "execution_count": 42,
   "id": "4ec13259",
   "metadata": {},
   "outputs": [],
   "source": [
    "from confluent_kafka import Consumer"
   ]
  },
  {
   "cell_type": "code",
   "execution_count": 43,
   "id": "c30df9e7",
   "metadata": {},
   "outputs": [],
   "source": [
    "import socket"
   ]
  },
  {
   "cell_type": "code",
   "execution_count": 44,
   "id": "65a85433",
   "metadata": {},
   "outputs": [],
   "source": [
    "import yaml"
   ]
  },
  {
   "cell_type": "code",
   "execution_count": 45,
   "id": "2a66415b",
   "metadata": {},
   "outputs": [],
   "source": [
    "import os"
   ]
  },
  {
   "cell_type": "code",
   "execution_count": 52,
   "id": "8bf9da9d",
   "metadata": {},
   "outputs": [],
   "source": [
    "kafka_config = yaml.load(open(os.path.join(r'C:\\Users\\61478\\aiven\\src\\config', 'kafka_config.yml')), Loader=yaml.Loader) "
   ]
  },
  {
   "cell_type": "code",
   "execution_count": 47,
   "id": "40438f18",
   "metadata": {},
   "outputs": [],
   "source": [
    "hostname = kafka_config['kafka-test']['hostname']\n",
    "port = kafka_config['kafka-test']['port']\n",
    "cert_folder = kafka_config['kafka-test']['cert_folder']"
   ]
  },
  {
   "cell_type": "code",
   "execution_count": 48,
   "id": "e367814b",
   "metadata": {},
   "outputs": [
    {
     "data": {
      "text/plain": [
       "'LAPTOP-90GOCT8E'"
      ]
     },
     "execution_count": 48,
     "metadata": {},
     "output_type": "execute_result"
    }
   ],
   "source": [
    "socket.gethostname()"
   ]
  },
  {
   "cell_type": "code",
   "execution_count": 49,
   "id": "5c772d1e",
   "metadata": {},
   "outputs": [],
   "source": [
    "conf = {\"bootstrap.servers\": hostname+\":\"+str(port), \n",
    "        \"security.protocol\": \"SSL\", \n",
    "        \"ssl.ca.location\": cert_folder+\"/ca.pem\",\n",
    "        \"ssl.key.location\": cert_folder+\"/service.key\",\n",
    "        \"ssl.certificate.location\": cert_folder+\"/service.cert\"}"
   ]
  },
  {
   "cell_type": "code",
   "execution_count": 55,
   "id": "477e7e17",
   "metadata": {},
   "outputs": [],
   "source": [
    "producer = Producer(conf)"
   ]
  },
  {
   "cell_type": "code",
   "execution_count": 56,
   "id": "07fac4a5",
   "metadata": {},
   "outputs": [],
   "source": [
    "producer.produce('web_poll', key=\"key\", value=\"value\")"
   ]
  },
  {
   "cell_type": "code",
   "execution_count": null,
   "id": "5cf8b626",
   "metadata": {},
   "outputs": [],
   "source": []
  },
  {
   "cell_type": "code",
   "execution_count": null,
   "id": "df76949b",
   "metadata": {},
   "outputs": [],
   "source": []
  }
 ],
 "metadata": {
  "kernelspec": {
   "display_name": "Python 3",
   "language": "python",
   "name": "python3"
  },
  "language_info": {
   "codemirror_mode": {
    "name": "ipython",
    "version": 3
   },
   "file_extension": ".py",
   "mimetype": "text/x-python",
   "name": "python",
   "nbconvert_exporter": "python",
   "pygments_lexer": "ipython3",
   "version": "3.7.9"
  }
 },
 "nbformat": 4,
 "nbformat_minor": 5
}
